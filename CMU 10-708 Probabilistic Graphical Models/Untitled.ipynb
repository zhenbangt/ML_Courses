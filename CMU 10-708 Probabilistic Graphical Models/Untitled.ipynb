{
 "cells": [
  {
   "cell_type": "code",
   "execution_count": 2,
   "metadata": {},
   "outputs": [],
   "source": [
    "import glob"
   ]
  },
  {
   "cell_type": "code",
   "execution_count": 41,
   "metadata": {},
   "outputs": [],
   "source": [
    "lecs = glob.glob(r\"C:\\Users\\feroc\\OneDrive\\Notability\\CS230 Deep Learning\\coursera\\*\")"
   ]
  },
  {
   "cell_type": "code",
   "execution_count": 29,
   "metadata": {},
   "outputs": [
    {
     "data": {
      "text/plain": [
       "27"
      ]
     },
     "execution_count": 29,
     "metadata": {},
     "output_type": "execute_result"
    }
   ],
   "source": [
    "len(lecs)"
   ]
  },
  {
   "cell_type": "code",
   "execution_count": 42,
   "metadata": {},
   "outputs": [
    {
     "data": {
      "text/plain": [
       "['C:\\\\Users\\\\feroc\\\\OneDrive\\\\Notability\\\\CS230 Deep Learning\\\\coursera\\\\C1M1.pdf',\n",
       " 'C:\\\\Users\\\\feroc\\\\OneDrive\\\\Notability\\\\CS230 Deep Learning\\\\coursera\\\\C1M2.pdf',\n",
       " 'C:\\\\Users\\\\feroc\\\\OneDrive\\\\Notability\\\\CS230 Deep Learning\\\\coursera\\\\C1M3.pdf',\n",
       " 'C:\\\\Users\\\\feroc\\\\OneDrive\\\\Notability\\\\CS230 Deep Learning\\\\coursera\\\\C1M4.pdf',\n",
       " 'C:\\\\Users\\\\feroc\\\\OneDrive\\\\Notability\\\\CS230 Deep Learning\\\\coursera\\\\C2M1.pdf',\n",
       " 'C:\\\\Users\\\\feroc\\\\OneDrive\\\\Notability\\\\CS230 Deep Learning\\\\coursera\\\\C2M2.pdf',\n",
       " 'C:\\\\Users\\\\feroc\\\\OneDrive\\\\Notability\\\\CS230 Deep Learning\\\\coursera\\\\C2M3.pdf',\n",
       " 'C:\\\\Users\\\\feroc\\\\OneDrive\\\\Notability\\\\CS230 Deep Learning\\\\coursera\\\\C3M1.pdf',\n",
       " 'C:\\\\Users\\\\feroc\\\\OneDrive\\\\Notability\\\\CS230 Deep Learning\\\\coursera\\\\C3M2.pdf',\n",
       " 'C:\\\\Users\\\\feroc\\\\OneDrive\\\\Notability\\\\CS230 Deep Learning\\\\coursera\\\\C4M1.pdf',\n",
       " 'C:\\\\Users\\\\feroc\\\\OneDrive\\\\Notability\\\\CS230 Deep Learning\\\\coursera\\\\C4M2.pdf',\n",
       " 'C:\\\\Users\\\\feroc\\\\OneDrive\\\\Notability\\\\CS230 Deep Learning\\\\coursera\\\\C4M3.pdf',\n",
       " 'C:\\\\Users\\\\feroc\\\\OneDrive\\\\Notability\\\\CS230 Deep Learning\\\\coursera\\\\C4M4.pdf',\n",
       " 'C:\\\\Users\\\\feroc\\\\OneDrive\\\\Notability\\\\CS230 Deep Learning\\\\coursera\\\\C5M1.pdf',\n",
       " 'C:\\\\Users\\\\feroc\\\\OneDrive\\\\Notability\\\\CS230 Deep Learning\\\\coursera\\\\C5M2.pdf',\n",
       " 'C:\\\\Users\\\\feroc\\\\OneDrive\\\\Notability\\\\CS230 Deep Learning\\\\coursera\\\\C5M3.pdf']"
      ]
     },
     "execution_count": 42,
     "metadata": {},
     "output_type": "execute_result"
    }
   ],
   "source": [
    "lecs"
   ]
  },
  {
   "cell_type": "code",
   "execution_count": 7,
   "metadata": {},
   "outputs": [],
   "source": [
    "import re"
   ]
  },
  {
   "cell_type": "code",
   "execution_count": 21,
   "metadata": {},
   "outputs": [],
   "source": [
    "empty_dict = dict([])\n",
    "for i in lecs:\n",
    "    empty_dict[int(re.search('(?<=[a-z]{3})([0-9]{1,2})', i)[0])] = i"
   ]
  },
  {
   "cell_type": "code",
   "execution_count": 25,
   "metadata": {},
   "outputs": [
    {
     "data": {
      "text/plain": [
       "list"
      ]
     },
     "execution_count": 25,
     "metadata": {},
     "output_type": "execute_result"
    }
   ],
   "source": [
    "sorted(empty_dict)"
   ]
  },
  {
   "cell_type": "code",
   "execution_count": 26,
   "metadata": {},
   "outputs": [
    {
     "data": {
      "text/plain": [
       "['lec1_scribe.pdf',\n",
       " 'lec2_scribe.pdf',\n",
       " 'lec3_scribe.pdf',\n",
       " 'lec4_scribe.pdf',\n",
       " 'lec5_scribe.pdf',\n",
       " 'lec7_scribe.pdf',\n",
       " 'lec8_scribe.pdf',\n",
       " 'lec9_scribe.pdf',\n",
       " 'lec10_scribe.pdf',\n",
       " 'lec11_scribe.pdf',\n",
       " 'lec12_scribe.pdf',\n",
       " 'lec13_scribe.pdf',\n",
       " 'lec14_scribe.pdf',\n",
       " 'lec15_scribe.pdf',\n",
       " 'lec16_scribe.pdf',\n",
       " 'lec17_scribe.pdf',\n",
       " 'lec18_scribe.pdf',\n",
       " 'lec19_scribe.pdf',\n",
       " 'lec20_scribe.pdf',\n",
       " 'lec21_scribe.pdf',\n",
       " 'lec23_scribe.pdf',\n",
       " 'lec24_scribe.pdf']"
      ]
     },
     "execution_count": 26,
     "metadata": {},
     "output_type": "execute_result"
    }
   ],
   "source": [
    "[empty_dict[i] for i in sorted(empty_dict)]"
   ]
  },
  {
   "cell_type": "code",
   "execution_count": 43,
   "metadata": {},
   "outputs": [
    {
     "name": "stdout",
     "output_type": "stream",
     "text": [
      "C:\\Users\\feroc\\OneDrive\\Notability\\CS230 Deep Learning\\coursera\\C1M1.pdf successful\n",
      "C:\\Users\\feroc\\OneDrive\\Notability\\CS230 Deep Learning\\coursera\\C1M2.pdf successful\n",
      "C:\\Users\\feroc\\OneDrive\\Notability\\CS230 Deep Learning\\coursera\\C1M3.pdf successful\n",
      "C:\\Users\\feroc\\OneDrive\\Notability\\CS230 Deep Learning\\coursera\\C1M4.pdf successful\n",
      "C:\\Users\\feroc\\OneDrive\\Notability\\CS230 Deep Learning\\coursera\\C2M1.pdf successful\n",
      "C:\\Users\\feroc\\OneDrive\\Notability\\CS230 Deep Learning\\coursera\\C2M2.pdf successful\n",
      "C:\\Users\\feroc\\OneDrive\\Notability\\CS230 Deep Learning\\coursera\\C2M3.pdf successful\n",
      "C:\\Users\\feroc\\OneDrive\\Notability\\CS230 Deep Learning\\coursera\\C3M1.pdf successful\n",
      "C:\\Users\\feroc\\OneDrive\\Notability\\CS230 Deep Learning\\coursera\\C3M2.pdf successful\n",
      "C:\\Users\\feroc\\OneDrive\\Notability\\CS230 Deep Learning\\coursera\\C4M1.pdf successful\n",
      "C:\\Users\\feroc\\OneDrive\\Notability\\CS230 Deep Learning\\coursera\\C4M2.pdf successful\n",
      "C:\\Users\\feroc\\OneDrive\\Notability\\CS230 Deep Learning\\coursera\\C4M3.pdf successful\n",
      "C:\\Users\\feroc\\OneDrive\\Notability\\CS230 Deep Learning\\coursera\\C4M4.pdf successful\n",
      "C:\\Users\\feroc\\OneDrive\\Notability\\CS230 Deep Learning\\coursera\\C5M1.pdf successful\n",
      "C:\\Users\\feroc\\OneDrive\\Notability\\CS230 Deep Learning\\coursera\\C5M2.pdf successful\n",
      "C:\\Users\\feroc\\OneDrive\\Notability\\CS230 Deep Learning\\coursera\\C5M3.pdf successful\n"
     ]
    }
   ],
   "source": [
    "from PyPDF3 import PdfFileMerger\n",
    "\n",
    "pdfs = lecs\n",
    "\n",
    "merger = PdfFileMerger()\n",
    "\n",
    "for pdf in pdfs:\n",
    "    merger.append(pdf)\n",
    "    print(f\"{pdf} successful\")\n",
    "\n",
    "merger.write(\"coursera_DL_all.pdf\")\n",
    "merger.close()"
   ]
  },
  {
   "cell_type": "code",
   "execution_count": null,
   "metadata": {},
   "outputs": [],
   "source": []
  },
  {
   "cell_type": "code",
   "execution_count": null,
   "metadata": {},
   "outputs": [],
   "source": []
  },
  {
   "cell_type": "code",
   "execution_count": null,
   "metadata": {},
   "outputs": [],
   "source": []
  },
  {
   "cell_type": "code",
   "execution_count": null,
   "metadata": {},
   "outputs": [],
   "source": []
  },
  {
   "cell_type": "code",
   "execution_count": 44,
   "metadata": {},
   "outputs": [],
   "source": [
    "import numpy as np"
   ]
  },
  {
   "cell_type": "code",
   "execution_count": 48,
   "metadata": {},
   "outputs": [],
   "source": [
    "a= np.random.random((5,5))"
   ]
  },
  {
   "cell_type": "code",
   "execution_count": 49,
   "metadata": {},
   "outputs": [
    {
     "data": {
      "text/plain": [
       "array([[0.26309842, 0.39597966, 0.67174677, 0.51293235, 0.12907635],\n",
       "       [0.01597168, 0.32393006, 0.64516106, 0.38632185, 0.66908406],\n",
       "       [0.90915352, 0.56832328, 0.77685333, 0.05104508, 0.41929947],\n",
       "       [0.57909994, 0.58112241, 0.10782845, 0.46731235, 0.32701433],\n",
       "       [0.58413619, 0.6975414 , 0.4398685 , 0.82988767, 0.37177517]])"
      ]
     },
     "execution_count": 49,
     "metadata": {},
     "output_type": "execute_result"
    }
   ],
   "source": [
    "a"
   ]
  },
  {
   "cell_type": "code",
   "execution_count": 52,
   "metadata": {},
   "outputs": [],
   "source": [
    "b = np.random.random(5)"
   ]
  },
  {
   "cell_type": "code",
   "execution_count": 53,
   "metadata": {},
   "outputs": [
    {
     "data": {
      "text/plain": [
       "array([0.68502854, 0.78118431, 0.88364747, 0.7808659 , 0.49737972])"
      ]
     },
     "execution_count": 53,
     "metadata": {},
     "output_type": "execute_result"
    }
   ],
   "source": [
    "b"
   ]
  },
  {
   "cell_type": "code",
   "execution_count": 54,
   "metadata": {},
   "outputs": [
    {
     "data": {
      "text/plain": [
       "(5,)"
      ]
     },
     "execution_count": 54,
     "metadata": {},
     "output_type": "execute_result"
    }
   ],
   "source": [
    "b.shape"
   ]
  },
  {
   "cell_type": "code",
   "execution_count": 63,
   "metadata": {},
   "outputs": [
    {
     "data": {
      "text/plain": [
       "array([1.5478817 , 1.46853948, 2.00163624, 1.47350461, 2.16669145])"
      ]
     },
     "execution_count": 63,
     "metadata": {},
     "output_type": "execute_result"
    }
   ],
   "source": [
    "np.dot(b,a.T)"
   ]
  },
  {
   "cell_type": "code",
   "execution_count": 56,
   "metadata": {},
   "outputs": [
    {
     "data": {
      "text/plain": [
       "array([1.73881485, 1.8272255 , 1.95360112, 1.4759453 , 1.42187963])"
      ]
     },
     "execution_count": 56,
     "metadata": {},
     "output_type": "execute_result"
    }
   ],
   "source": [
    "np.dot(b.T,a)"
   ]
  },
  {
   "cell_type": "code",
   "execution_count": 59,
   "metadata": {},
   "outputs": [
    {
     "data": {
      "text/plain": [
       "1.5478816977347005"
      ]
     },
     "execution_count": 59,
     "metadata": {},
     "output_type": "execute_result"
    }
   ],
   "source": [
    "np.array([0.26309842, 0.39597966, 0.67174677, 0.51293235, 0.12907635]).dot([0.68502854, 0.78118431, 0.88364747, 0.7808659 , 0.49737972])"
   ]
  },
  {
   "cell_type": "code",
   "execution_count": null,
   "metadata": {},
   "outputs": [],
   "source": []
  }
 ],
 "metadata": {
  "kernelspec": {
   "display_name": "Python 3",
   "language": "python",
   "name": "python3"
  },
  "language_info": {
   "codemirror_mode": {
    "name": "ipython",
    "version": 3
   },
   "file_extension": ".py",
   "mimetype": "text/x-python",
   "name": "python",
   "nbconvert_exporter": "python",
   "pygments_lexer": "ipython3",
   "version": "3.8.3"
  }
 },
 "nbformat": 4,
 "nbformat_minor": 4
}
