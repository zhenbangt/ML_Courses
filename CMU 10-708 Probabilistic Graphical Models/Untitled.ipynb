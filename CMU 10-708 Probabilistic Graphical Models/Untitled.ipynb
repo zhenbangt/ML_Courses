{
 "cells": [
  {
   "cell_type": "code",
   "execution_count": 2,
   "metadata": {},
   "outputs": [],
   "source": [
    "import glob"
   ]
  },
  {
   "cell_type": "code",
   "execution_count": 28,
   "metadata": {},
   "outputs": [],
   "source": [
    "lecs = glob.glob(\"lecture*\")"
   ]
  },
  {
   "cell_type": "code",
   "execution_count": 29,
   "metadata": {},
   "outputs": [
    {
     "data": {
      "text/plain": [
       "27"
      ]
     },
     "execution_count": 29,
     "metadata": {},
     "output_type": "execute_result"
    }
   ],
   "source": [
    "len(lecs)"
   ]
  },
  {
   "cell_type": "code",
   "execution_count": 30,
   "metadata": {},
   "outputs": [
    {
     "data": {
      "text/plain": [
       "['lecture01-Introduction.pdf',\n",
       " 'lecture02-MRFrepresentation.pdf',\n",
       " 'lecture03-BNrepresentation.pdf',\n",
       " 'lecture04-ExactInference.pdf',\n",
       " 'lecture05-ParameterEst.pdf',\n",
       " 'lecture06-HMMCRF.pdf',\n",
       " 'lecture07-VI1.pdf',\n",
       " 'lecture08-VI2.pdf',\n",
       " 'lecture09-MC.pdf',\n",
       " 'lecture10-MCMC-opt.pdf',\n",
       " 'lecture11-NN.pdf',\n",
       " 'lecture12-DGM1.pdf',\n",
       " 'lecture13-DGM2.pdf',\n",
       " 'lecture14-DeepSequenceModels.pdf',\n",
       " 'lecture15-TextGen.pdf',\n",
       " 'lecture16-NetworkLearning.pdf',\n",
       " 'lecture17-Causality1.pdf',\n",
       " 'lecture18-Causality2.pdf',\n",
       " 'lecture19-RL1.pdf',\n",
       " 'lecture20-RL2.pdf',\n",
       " 'lecture21-GP.pdf',\n",
       " 'lecture23-NPBayes-DP.pdf',\n",
       " 'lecture24-NPBayes-IBP.pdf',\n",
       " 'lecture25-SpectrumGM.pdf',\n",
       " 'lecture26-Parallel_ML.pdf',\n",
       " 'lecture27-elements-of-meta-learning-maruan.pdf',\n",
       " 'lecture28-trustworthy-machine-learning.pdf']"
      ]
     },
     "execution_count": 30,
     "metadata": {},
     "output_type": "execute_result"
    }
   ],
   "source": [
    "lecs"
   ]
  },
  {
   "cell_type": "code",
   "execution_count": 7,
   "metadata": {},
   "outputs": [],
   "source": [
    "import re"
   ]
  },
  {
   "cell_type": "code",
   "execution_count": 21,
   "metadata": {},
   "outputs": [],
   "source": [
    "empty_dict = dict([])\n",
    "for i in lecs:\n",
    "    empty_dict[int(re.search('(?<=[a-z]{3})([0-9]{1,2})', i)[0])] = i"
   ]
  },
  {
   "cell_type": "code",
   "execution_count": 25,
   "metadata": {},
   "outputs": [
    {
     "data": {
      "text/plain": [
       "list"
      ]
     },
     "execution_count": 25,
     "metadata": {},
     "output_type": "execute_result"
    }
   ],
   "source": [
    "sorted(empty_dict)"
   ]
  },
  {
   "cell_type": "code",
   "execution_count": 26,
   "metadata": {},
   "outputs": [
    {
     "data": {
      "text/plain": [
       "['lec1_scribe.pdf',\n",
       " 'lec2_scribe.pdf',\n",
       " 'lec3_scribe.pdf',\n",
       " 'lec4_scribe.pdf',\n",
       " 'lec5_scribe.pdf',\n",
       " 'lec7_scribe.pdf',\n",
       " 'lec8_scribe.pdf',\n",
       " 'lec9_scribe.pdf',\n",
       " 'lec10_scribe.pdf',\n",
       " 'lec11_scribe.pdf',\n",
       " 'lec12_scribe.pdf',\n",
       " 'lec13_scribe.pdf',\n",
       " 'lec14_scribe.pdf',\n",
       " 'lec15_scribe.pdf',\n",
       " 'lec16_scribe.pdf',\n",
       " 'lec17_scribe.pdf',\n",
       " 'lec18_scribe.pdf',\n",
       " 'lec19_scribe.pdf',\n",
       " 'lec20_scribe.pdf',\n",
       " 'lec21_scribe.pdf',\n",
       " 'lec23_scribe.pdf',\n",
       " 'lec24_scribe.pdf']"
      ]
     },
     "execution_count": 26,
     "metadata": {},
     "output_type": "execute_result"
    }
   ],
   "source": [
    "[empty_dict[i] for i in sorted(empty_dict)]"
   ]
  },
  {
   "cell_type": "code",
   "execution_count": 31,
   "metadata": {},
   "outputs": [
    {
     "name": "stderr",
     "output_type": "stream",
     "text": [
      "PdfReadWarning: Xref table not zero-indexed. ID numbers for objects will be corrected. [pdf.py:1864]\n"
     ]
    },
    {
     "name": "stdout",
     "output_type": "stream",
     "text": [
      "lecture01-Introduction.pdf successful\n",
      "lecture02-MRFrepresentation.pdf successful\n",
      "lecture03-BNrepresentation.pdf successful\n",
      "lecture04-ExactInference.pdf successful\n",
      "lecture05-ParameterEst.pdf successful\n",
      "lecture06-HMMCRF.pdf successful\n",
      "lecture07-VI1.pdf successful\n",
      "lecture08-VI2.pdf successful\n",
      "lecture09-MC.pdf successful\n",
      "lecture10-MCMC-opt.pdf successful\n",
      "lecture11-NN.pdf successful\n",
      "lecture12-DGM1.pdf successful\n",
      "lecture13-DGM2.pdf successful\n",
      "lecture14-DeepSequenceModels.pdf successful\n",
      "lecture15-TextGen.pdf successful\n",
      "lecture16-NetworkLearning.pdf successful\n",
      "lecture17-Causality1.pdf successful\n",
      "lecture18-Causality2.pdf successful\n",
      "lecture19-RL1.pdf successful\n",
      "lecture20-RL2.pdf successful\n",
      "lecture21-GP.pdf successful\n",
      "lecture23-NPBayes-DP.pdf successful\n",
      "lecture24-NPBayes-IBP.pdf successful\n",
      "lecture25-SpectrumGM.pdf successful\n",
      "lecture26-Parallel_ML.pdf successful\n",
      "lecture27-elements-of-meta-learning-maruan.pdf successful\n",
      "lecture28-trustworthy-machine-learning.pdf successful\n"
     ]
    }
   ],
   "source": [
    "from PyPDF3 import PdfFileMerger\n",
    "\n",
    "pdfs = lecs\n",
    "\n",
    "merger = PdfFileMerger()\n",
    "\n",
    "for pdf in pdfs:\n",
    "    merger.append(pdf)\n",
    "    print(f\"{pdf} successful\")\n",
    "\n",
    "merger.write(\"10_708_all_lecs.pdf\")\n",
    "merger.close()"
   ]
  }
 ],
 "metadata": {
  "kernelspec": {
   "display_name": "Python 3",
   "language": "python",
   "name": "python3"
  },
  "language_info": {
   "codemirror_mode": {
    "name": "ipython",
    "version": 3
   },
   "file_extension": ".py",
   "mimetype": "text/x-python",
   "name": "python",
   "nbconvert_exporter": "python",
   "pygments_lexer": "ipython3",
   "version": "3.8.3"
  }
 },
 "nbformat": 4,
 "nbformat_minor": 4
}
